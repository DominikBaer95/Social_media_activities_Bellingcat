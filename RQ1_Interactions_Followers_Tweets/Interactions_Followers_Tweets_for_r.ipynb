{
 "cells": [
  {
   "cell_type": "code",
   "execution_count": null,
   "metadata": {},
   "outputs": [],
   "source": [
    "import pandas as pd\n",
    "import datetime \n",
    "import plotly.express as px\n",
    "import plotly.graph_objects as go\n",
    "from plotly.subplots import make_subplots\n",
    "import numpy as np\n",
    "\n",
    "df = pd.read_excel('../../DataSources/bellingcat_all_inclu_war_lang_thread.xlsx')\n",
    "df['date'] = pd.to_datetime(df['date']).dt.date\n",
    "df = df[df['date']<datetime.date(year=2022,month=6,day=1)]\n",
    "df['date'] = pd.to_datetime(df['date'])\n",
    "\n",
    "\n",
    "print(df.head())\n",
    "\n"
   ]
  },
  {
   "cell_type": "code",
   "execution_count": null,
   "metadata": {},
   "outputs": [],
   "source": [
    "df['type_of_tweet']=df['type_of_tweet'].replace(['Bellingcat_Thread', 'Normal Tweet',\"quoted\"], 'Conversation')"
   ]
  },
  {
   "cell_type": "code",
   "execution_count": null,
   "metadata": {},
   "outputs": [],
   "source": [
    "df_followers= pd.read_excel(\"..\\..\\DataSources\\Followers_final.xlsx\")\n",
    "df_followers = df_followers[[\"Date\",\"followers\"]].groupby([pd.Grouper(freq=\"M\",key=\"Date\")])[\"followers\"].max().reset_index()"
   ]
  },
  {
   "cell_type": "code",
   "execution_count": null,
   "metadata": {},
   "outputs": [],
   "source": [
    "df_followers['year'] = df_followers.Date.dt.year\n",
    "df_followers['month'] = df_followers.Date.dt.month\n",
    "print(df_followers.head())"
   ]
  },
  {
   "cell_type": "code",
   "execution_count": null,
   "metadata": {},
   "outputs": [],
   "source": [
    "def f(x):\n",
    "    return pd.Series(dict(retweets =  x['retweets'].sum(),\n",
    "                        likes = x['likes'].sum(),\n",
    "                        replys = x['replys'].sum(), \n",
    "                        quotes =  x['quotes'].sum(),\n",
    "                        count =  x['text'].count(),\n",
    "                        lang = x[\"lang\"].mode().iat[0], \n",
    "                        date = x['date'].max(), \n",
    "                        ))\n",
    "\n",
    "        \n",
    "    \n",
    "#df_bellingcat_totals = df.groupby([pd.Grouper(freq=\"M\",key=\"date\"),\"type_of_tweet\"]).apply(f).reset_index()      \n",
    "df_bellingcat_totals = df.groupby([\"conversation_id\",\"type_of_tweet\"]).apply(f).reset_index()"
   ]
  },
  {
   "cell_type": "code",
   "execution_count": null,
   "metadata": {},
   "outputs": [],
   "source": [
    "df_bellingcat_totals =df_bellingcat_totals[df_bellingcat_totals['lang']==\"en\"]"
   ]
  },
  {
   "cell_type": "code",
   "execution_count": null,
   "metadata": {},
   "outputs": [],
   "source": [
    "df_bellingcat_totals[\"count\"] =np.where(df_bellingcat_totals[\"type_of_tweet\"] ==\"Conversation\",1,df_bellingcat_totals[\"count\"])"
   ]
  },
  {
   "cell_type": "code",
   "execution_count": null,
   "metadata": {},
   "outputs": [],
   "source": [
    "def g(x):\n",
    "    return pd.Series(dict(retweets =  x['retweets'].sum(),\n",
    "                        likes = x['likes'].sum(),\n",
    "                        replys = x['replys'].sum(), \n",
    "                        quotes =  x['quotes'].sum(),\n",
    "                        count =  x['count'].sum(),\n",
    "                        lang = x[\"lang\"].mode().iat[0]\n",
    "                        ))\n",
    "\n",
    "\n",
    "df_bellingcat_totals = df_bellingcat_totals.groupby([pd.Grouper(freq=\"M\",key=\"date\"),\"type_of_tweet\"]).apply(g).reset_index()      "
   ]
  },
  {
   "cell_type": "code",
   "execution_count": null,
   "metadata": {},
   "outputs": [],
   "source": [
    "df_bellingcat_totals['year'] = df_bellingcat_totals.date.dt.year\n",
    "df_bellingcat_totals['month'] = df_bellingcat_totals.date.dt.month\n"
   ]
  },
  {
   "cell_type": "code",
   "execution_count": null,
   "metadata": {},
   "outputs": [],
   "source": [
    "print(df_bellingcat_totals.head())"
   ]
  },
  {
   "cell_type": "code",
   "execution_count": null,
   "metadata": {},
   "outputs": [],
   "source": [
    "df_bellingcat_totals=df_bellingcat_totals.merge(df_followers, on=[\"year\",\"month\"], how='left').drop(columns=['month', 'year', 'Date'])"
   ]
  },
  {
   "cell_type": "code",
   "execution_count": null,
   "metadata": {},
   "outputs": [],
   "source": [
    "#df_bellingcat_totals.to_excel(\"text.xlsx\")"
   ]
  },
  {
   "cell_type": "code",
   "execution_count": null,
   "metadata": {},
   "outputs": [],
   "source": [
    "print(df_bellingcat_totals.head(20))"
   ]
  },
  {
   "cell_type": "code",
   "execution_count": null,
   "metadata": {},
   "outputs": [],
   "source": [
    "df_bellingcat_totals[\"Monthly_retweets\"] = df_bellingcat_totals[\"retweets\"]/df_bellingcat_totals[\"count\"]\n",
    "df_bellingcat_totals[\"Monthly_replies\"] = df_bellingcat_totals[\"replys\"]/df_bellingcat_totals[\"count\"]\n",
    "df_bellingcat_totals[\"Monthly_likes\"] = df_bellingcat_totals[\"likes\"]/df_bellingcat_totals[\"count\"]\n",
    "df_bellingcat_totals[\"Monthly_quotes\"] = df_bellingcat_totals[\"quotes\"]/df_bellingcat_totals[\"count\"]"
   ]
  },
  {
   "cell_type": "code",
   "execution_count": null,
   "metadata": {},
   "outputs": [],
   "source": [
    "print(df_bellingcat_totals.tail())"
   ]
  },
  {
   "cell_type": "code",
   "execution_count": null,
   "metadata": {},
   "outputs": [],
   "source": [
    "print(df_bellingcat_totals.head())"
   ]
  },
  {
   "cell_type": "code",
   "execution_count": null,
   "metadata": {},
   "outputs": [],
   "source": [
    "df_bellingcat_totals[\"all_interactions\"] = df_bellingcat_totals[\"quotes\"]+df_bellingcat_totals[\"retweets\"]+df_bellingcat_totals[\"likes\"]+df_bellingcat_totals[\"replys\"]"
   ]
  },
  {
   "cell_type": "code",
   "execution_count": null,
   "metadata": {},
   "outputs": [],
   "source": [
    "def h(x):\n",
    "    return pd.Series(dict(all_interactions =  x['all_interactions'].sum(),\n",
    "                        followers = x[\"followers\"].max()\n",
    "                        ))\n",
    "\n",
    "\n",
    "df_bellingcat_totals_gruped = df_bellingcat_totals.groupby([pd.Grouper(freq=\"M\",key=\"date\")]).apply(h).reset_index() \n",
    "\n"
   ]
  },
  {
   "cell_type": "code",
   "execution_count": null,
   "metadata": {},
   "outputs": [],
   "source": [
    "#df_bellingcat_totals_gruped.to_excel(\"text.xlsx\")"
   ]
  },
  {
   "cell_type": "code",
   "execution_count": null,
   "metadata": {},
   "outputs": [],
   "source": [
    "df_bellingcat_totals_gruped"
   ]
  },
  {
   "cell_type": "code",
   "execution_count": null,
   "metadata": {},
   "outputs": [],
   "source": [
    "df_bellingcat_totals_gruped_timeIndex = df_bellingcat_totals_gruped.set_index('date')\n",
    "percentage_change = df_bellingcat_totals_gruped_timeIndex.pct_change()\n",
    "percentage_change.to_excel(\"text.xlsx\")"
   ]
  },
  {
   "cell_type": "code",
   "execution_count": null,
   "metadata": {},
   "outputs": [],
   "source": [
    "df_bellingcat_totals_gruped.to_csv(\"..\\..\\DataSources\\Dataset_Graphs\\RQ1_Followers_Interactions_Tweets\\Followers_Interactions.csv\")"
   ]
  },
  {
   "cell_type": "code",
   "execution_count": null,
   "metadata": {},
   "outputs": [],
   "source": [
    "#df_bellingcat_totals.to_csv(\"trends_bellingcat_total.csv\")"
   ]
  },
  {
   "cell_type": "code",
   "execution_count": null,
   "metadata": {},
   "outputs": [],
   "source": [
    "\n",
    "\n",
    "df_bellingcat_year_type =    df_bellingcat_totals.groupby([pd.Grouper(freq=\"Y\",key=\"date\"),\"type_of_tweet\"])[\"count\"].sum().reset_index()\n",
    "\n",
    "df_bellingcat_year_type[\"relative\"] = df_bellingcat_year_type[\"count\"]/df_bellingcat_year_type.groupby([pd.Grouper(freq=\"M\",key=\"date\")])[\"count\"].transform(\"sum\")"
   ]
  },
  {
   "cell_type": "code",
   "execution_count": null,
   "metadata": {},
   "outputs": [],
   "source": [
    "df_bellingcat_year_type"
   ]
  },
  {
   "cell_type": "code",
   "execution_count": null,
   "metadata": {},
   "outputs": [],
   "source": [
    "df_bellingcat_year_type.to_excel(\"relative.xlsx\")"
   ]
  },
  {
   "cell_type": "code",
   "execution_count": null,
   "metadata": {},
   "outputs": [],
   "source": [
    "\n",
    "df_bellingcat_year_type.to_csv(\"..\\..\\DataSources\\Dataset_Graphs\\RQ1_Followers_Interactions_Tweets\\Relative_Tweets.csv\")"
   ]
  },
  {
   "cell_type": "code",
   "execution_count": null,
   "metadata": {},
   "outputs": [],
   "source": [
    "df_bellingcat_year =    df_bellingcat_totals.groupby([\"type_of_tweet\"])[\"count\"].sum().reset_index()"
   ]
  },
  {
   "cell_type": "code",
   "execution_count": null,
   "metadata": {},
   "outputs": [],
   "source": [
    "df_bellingcat_year"
   ]
  }
 ],
 "metadata": {
  "kernelspec": {
   "display_name": "Python 3 (ipykernel)",
   "language": "python",
   "name": "python3"
  },
  "language_info": {
   "codemirror_mode": {
    "name": "ipython",
    "version": 3
   },
   "file_extension": ".py",
   "mimetype": "text/x-python",
   "name": "python",
   "nbconvert_exporter": "python",
   "pygments_lexer": "ipython3",
   "version": "3.10.1"
  },
  "vscode": {
   "interpreter": {
    "hash": "d3e10ef16274dd72e574b8fa73b58450b957d8421a2901baded3cca26fcf5dda"
   }
  }
 },
 "nbformat": 4,
 "nbformat_minor": 2
}
