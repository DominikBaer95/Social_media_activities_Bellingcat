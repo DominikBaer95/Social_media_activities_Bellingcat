{
 "cells": [
  {
   "cell_type": "code",
   "execution_count": null,
   "metadata": {},
   "outputs": [],
   "source": [
    "%matplotlib inline\n",
    "import matplotlib.pyplot as plt\n",
    "import numpy as np\n",
    "import pandas as pd\n",
    "import statsmodels.api as sm\n",
    "import seaborn as sns\n",
    "import plotly.graph_objects as go\n",
    "import plotly.express as px\n",
    "from scipy.stats import mannwhitneyu\n",
    "from scipy.stats import kruskal"
   ]
  },
  {
   "cell_type": "code",
   "execution_count": null,
   "metadata": {},
   "outputs": [],
   "source": [
    "import datetime\n",
    "from datetime import datetime as datetime_1"
   ]
  },
  {
   "cell_type": "code",
   "execution_count": null,
   "metadata": {},
   "outputs": [],
   "source": [
    "np.random.seed(1)\n",
    "\n",
    "df_bellingcat = pd.read_excel(\"../../DataSources/Bellingcat_Conversations_Type_war_CodingNew.xlsx\",dtype = {'conversation_id': str,\"id\":str})\n",
    "df_bellingcat\n",
    "print(df_bellingcat.head())"
   ]
  },
  {
   "cell_type": "code",
   "execution_count": null,
   "metadata": {},
   "outputs": [],
   "source": [
    "df_bellingcat = df_bellingcat[df_bellingcat['date']>=datetime.datetime(year=2021,month=11,day=16)]\n",
    "df_bellingcat = df_bellingcat[df_bellingcat['lang']==\"en\"]\n",
    "print(df_bellingcat.tail())"
   ]
  },
  {
   "cell_type": "code",
   "execution_count": null,
   "metadata": {},
   "outputs": [],
   "source": [
    "df_bellingcat['year'] = df_bellingcat.date.dt.year\n",
    "df_bellingcat['month'] = df_bellingcat.date.dt.month\n",
    "print(df_bellingcat.head())"
   ]
  },
  {
   "cell_type": "code",
   "execution_count": null,
   "metadata": {},
   "outputs": [],
   "source": [
    "df_bellingcat[\"Final Type\"]=df_bellingcat[\"Final Type\"].replace(\"Publication of content regarding bellingcat\", \"Bellingcat Ops\")\n",
    "df_bellingcat[\"Final Type\"]=df_bellingcat[\"Final Type\"].replace(\"Crowdsource\", \"Crowdsourcing\")\n",
    "df_bellingcat[\"Final Type\"]=df_bellingcat[\"Final Type\"].replace(\"Share other content\", \"Other Promotion\")\n",
    "df_bellingcat[\"Final Type\"]=df_bellingcat[\"Final Type\"].replace(\"Tool presentation and training\", \"Tools and Training\")"
   ]
  },
  {
   "cell_type": "markdown",
   "metadata": {
    "pycharm": {
     "name": "#%% md\n"
    }
   },
   "source": [
    "## Followers"
   ]
  },
  {
   "cell_type": "code",
   "execution_count": null,
   "metadata": {},
   "outputs": [],
   "source": [
    "df_followers= pd.read_excel(\"../../DataSources/Followers_final.xlsx\")\n",
    "df_followers = df_followers[[\"Date\",\"followers\"]].groupby([pd.Grouper(freq=\"M\",key=\"Date\")])[\"followers\"].max().reset_index()\n",
    "print(df_followers.head())"
   ]
  },
  {
   "cell_type": "code",
   "execution_count": null,
   "metadata": {},
   "outputs": [],
   "source": [
    "df_followers['year'] = df_followers.Date.dt.year\n",
    "df_followers['month'] = df_followers.Date.dt.month\n",
    "print(df_followers.head())"
   ]
  },
  {
   "cell_type": "code",
   "execution_count": null,
   "metadata": {},
   "outputs": [],
   "source": [
    "df_bellingcat=df_bellingcat.merge(df_followers, on=[\"year\",\"month\"], how='left').drop(columns=['month', 'year', 'Date'])"
   ]
  },
  {
   "cell_type": "markdown",
   "metadata": {
    "pycharm": {
     "name": "#%% md\n"
    }
   },
   "source": [
    "## Engagement depending on the type of content "
   ]
  },
  {
   "cell_type": "code",
   "execution_count": null,
   "metadata": {},
   "outputs": [],
   "source": [
    "df_bellingcat[\"total_engagement\"] = df_bellingcat[\"likes\"]+df_bellingcat[\"replies\"]+df_bellingcat[\"quotes\"]+df_bellingcat[\"retweets\"]\n",
    "df_bellingcat[\"total_engagement_per_follower\"] = df_bellingcat[\"total_engagement\"] / df_bellingcat[\"followers\"]\n",
    "df_bellingcat['media_photo_Binary'] = np.where(df_bellingcat['media_photo'] > 0, 1, 0)\n",
    "df_bellingcat['media_videos_Binary'] = np.where(df_bellingcat['media_videos'] > 0, 1, 0)\n",
    "df_bellingcat['media_animated_gif_Binary'] = np.where(df_bellingcat['media_animated_gif'] > 0, 1, 0)\n",
    "df_bellingcat['media_review_image_url_Binary'] = np.where(df_bellingcat['media_review_image_url'] > 0, 1, 0)\n",
    "df_bellingcat[\"media_Binary\"] = np.where((  (df_bellingcat['media_photo'] > 0) | (df_bellingcat['media_videos'] > 0)), \"Media\", \"No Media\")\n",
    "df_bellingcat[\"media_Binary_numeric\"] = np.where(((df_bellingcat['media_photo'] > 0) | (df_bellingcat['media_videos'] > 0)), 1, 0)\n",
    "df_bellingcat[\"total_media\"] =   df_bellingcat['media_photo'] + df_bellingcat['media_videos']\n",
    "df_bellingcat['urls_Binary'] = np.where(df_bellingcat['urls'] > 0, 1, 0)\n",
    "df_bellingcat['hashtags_Binary'] = np.where(df_bellingcat['hashtags'] > 0, 1, 0)\n",
    "df_bellingcat['call_to_action'] = np.where(df_bellingcat['Final Type'] == \"Crowdsource\", 1, 0)\n",
    "df_bellingcat['log_engagement_per_post_per_follower']=np.log(df_bellingcat[\"total_engagement_per_follower\"]/df_bellingcat[\"count\"])\n",
    "df_bellingcat[\"likes_log\"]=np.log(((df_bellingcat[\"likes\"]+1)/ df_bellingcat[\"followers\"])/df_bellingcat[\"count\"])\n",
    "df_bellingcat[\"conversation_binary\"]=np.where(df_bellingcat['count'] > 1, \"Thread\", \"Single\")\n",
    "df_bellingcat[\"replies_log\"]=np.log(((df_bellingcat[\"replies\"]+1)/ df_bellingcat[\"followers\"])/df_bellingcat[\"count\"])\n",
    "df_bellingcat[\"quotes_log\"]=np.log(((df_bellingcat[\"quotes\"]+1)/ df_bellingcat[\"followers\"])/df_bellingcat[\"count\"])\n",
    "df_bellingcat[\"retweets_log\"]=np.log(((df_bellingcat[\"retweets\"]+1)/ df_bellingcat[\"followers\"])/df_bellingcat[\"count\"])\n",
    "df_bellingcat[\"normlog_engagement_per_follower\"]=np.log(df_bellingcat[\"total_engagement_per_follower\"])"
   ]
  },
  {
   "cell_type": "code",
   "execution_count": null,
   "metadata": {},
   "outputs": [],
   "source": [
    "df_correlation =df_bellingcat[[\"likes\",\"replies\",\"quotes\",\"retweets\"]]\n",
    "df_correlation.corr()"
   ]
  },
  {
   "cell_type": "code",
   "execution_count": null,
   "metadata": {},
   "outputs": [],
   "source": [
    "df_bellingcat_not_filtered = df_bellingcat.copy()"
   ]
  },
  {
   "cell_type": "code",
   "execution_count": null,
   "metadata": {},
   "outputs": [],
   "source": [
    "df_bellingcat = df_bellingcat[df_bellingcat[\"Final Type\"] != \"Publication of other events\"]"
   ]
  },
  {
   "cell_type": "code",
   "execution_count": null,
   "metadata": {},
   "outputs": [],
   "source": [
    "df_bellingcat['quantiles'] = (\n",
    "    pd.qcut(df_bellingcat['log_engagement_per_post_per_follower'], 4, labels=['Q1', 'Q2', 'Q3', 'Q4'])\n",
    ")"
   ]
  },
  {
   "cell_type": "code",
   "execution_count": null,
   "metadata": {},
   "outputs": [],
   "source": [
    "df_bellingcat['Final Type'].value_counts()"
   ]
  },
  {
   "cell_type": "markdown",
   "metadata": {
    "pycharm": {
     "name": "#%% md\n"
    }
   },
   "source": [
    "Distribution of total engagement based on the type of content of the post. "
   ]
  },
  {
   "cell_type": "code",
   "execution_count": null,
   "metadata": {},
   "outputs": [],
   "source": [
    "df_bellingcat.to_csv(\"../../DataSources/Dataset_Graphs/RQ2_Content_Engagement/first_graphs.csv\")\n",
    "df_bellingcat.to_excel(\"../../DataSources/Dataset_Graphs/RQ2_Content_Engagement/engagement_for_sentiment.xlsx\")"
   ]
  },
  {
   "cell_type": "markdown",
   "metadata": {
    "pycharm": {
     "name": "#%% md\n"
    }
   },
   "source": [
    "Distribution of Log of total engagement based on the type of content "
   ]
  },
  {
   "cell_type": "code",
   "execution_count": null,
   "metadata": {},
   "outputs": [],
   "source": [
    "import plotly.graph_objects as go\n",
    "\n",
    "fig = go.Figure()\n",
    "for type in df_bellingcat[\"Final Type\"].unique():\n",
    "    fig.add_trace(go.Box(#x=df_bellingcat['Final Type'][df_bellingcat['Final Type'] == type],\n",
    "                            y=df_bellingcat['log_engagement_per_post_per_follower'][df_bellingcat['Final Type'] == type],\n",
    "                            name=type,\n",
    "                            #box_visible=True,\n",
    "                            #meanline_visible=True\n",
    "                            \n",
    "                             ))\n",
    "\n",
    "fig.update_layout(\n",
    "        width=800, height=600, yaxis_title = \"Log10 Engagement\",legend=dict(\n",
    "        orientation=\"h\",\n",
    "        yanchor=\"bottom\",\n",
    "        y=1.02,\n",
    "        xanchor=\"right\",\n",
    "        x=0.8\n",
    "    )  )                      \n",
    "fig.show()"
   ]
  },
  {
   "cell_type": "code",
   "execution_count": null,
   "metadata": {},
   "outputs": [],
   "source": [
    "kruskal(df_bellingcat[df_bellingcat[\"Final Type\"]==\"Self-Promotion\"]['log_engagement_per_post_per_follower'],df_bellingcat[df_bellingcat[\"Final Type\"]==\"Research Publication\"]['log_engagement_per_post_per_follower'],df_bellingcat[df_bellingcat[\"Final Type\"]==\"Bellingcat Ops\"]['log_engagement_per_post_per_follower'],df_bellingcat[df_bellingcat[\"Final Type\"]==\"Crowdsourcing\"]['log_engagement_per_post_per_follower'],df_bellingcat[df_bellingcat[\"Final Type\"]==\"Tools and Training\"]['log_engagement_per_post_per_follower'],df_bellingcat[df_bellingcat[\"Final Type\"]==\"Other Promotion\"]['log_engagement_per_post_per_follower'])"
   ]
  },
  {
   "cell_type": "code",
   "execution_count": null,
   "metadata": {},
   "outputs": [],
   "source": [
    "fig = px.box(df_bellingcat[df_bellingcat[\"Final Type\"]==\"Research Publication\"],\n",
    "                            y='log_engagement_per_post_per_follower',\n",
    "                            color=\"media_Binary\",\n",
    "                            #box_visible=True,\n",
    "                            #meanline_visible=True\n",
    "                            title=\"Distribuiton of log engagement by type of media \"\n",
    "                             )\n",
    "\n",
    "fig.show()"
   ]
  },
  {
   "cell_type": "code",
   "execution_count": null,
   "metadata": {},
   "outputs": [],
   "source": [
    "x = df_bellingcat[df_bellingcat['media_Binary']==\"No Media\"][\"log_engagement_per_post_per_follower\"]\n",
    "y = df_bellingcat[df_bellingcat['media_Binary']==\"Media\"][\"log_engagement_per_post_per_follower\"]\n",
    "\n",
    "U1, p = mannwhitneyu(x, y, method=\"auto\",alternative=\"less\")\n",
    "print(U1,p)"
   ]
  },
  {
   "cell_type": "code",
   "execution_count": null,
   "metadata": {},
   "outputs": [],
   "source": [
    "fig = px.box(df_bellingcat,x=\"Final Type\",\n",
    "                            y='log_engagement_per_post_per_follower',\n",
    "                            color=\"media_Binary\",\n",
    "                            #box_visible=True,\n",
    "                            #meanline_visible=True\n",
    "                            title=\"Distribuiton of log engagement by type of media \"\n",
    "                             )\n",
    "\n",
    "fig.show()"
   ]
  },
  {
   "cell_type": "code",
   "execution_count": null,
   "metadata": {},
   "outputs": [],
   "source": [
    "list = df_bellingcat['Final Type'].unique()\n",
    "\n",
    "for type in list: \n",
    "    x = df_bellingcat[(df_bellingcat['Final Type']==type) & (df_bellingcat['media_Binary']==\"No Media\")][\"log_engagement_per_post_per_follower\"]\n",
    "    y = df_bellingcat[(df_bellingcat['Final Type']==type) & (df_bellingcat['media_Binary']==\"Media\")][\"log_engagement_per_post_per_follower\"]\n",
    "    \n",
    "    U1, p = mannwhitneyu(x, y, method=\"auto\",alternative=\"less\")\n",
    "    print(type,U1,p)"
   ]
  },
  {
   "cell_type": "code",
   "execution_count": null,
   "metadata": {},
   "outputs": [],
   "source": [
    "def f(x):\n",
    "    return pd.Series(dict(rate_media =  x['media_Binary_numeric'].sum()/(x['count'].count()),\n",
    "                        rate_hashtags = x['hashtags_Binary'].sum()/(x['count'].count()),\n",
    "                        rate_urls = x['urls_Binary'].sum()/(x['count'].count()), \n",
    "                        amount_tweet =  x['count'].sum(),\n",
    "                        amount_conversation =  x['count'].count(),\n",
    "                        conversation_depth =  x['count'].sum()/x['count'].count()))\n",
    "\n",
    "df_bellingcat_Rates = df_bellingcat.groupby([\"Final Type\"]).apply(f).reset_index()"
   ]
  },
  {
   "cell_type": "code",
   "execution_count": null,
   "metadata": {},
   "outputs": [],
   "source": [
    "print(df_bellingcat_Rates)"
   ]
  },
  {
   "cell_type": "code",
   "execution_count": null,
   "metadata": {},
   "outputs": [],
   "source": [
    "df_bellingcat_Rates=df_bellingcat_Rates.sort_values(by=['amount_tweet'], ascending=False)\n",
    "df_bellingcat_Rates.to_csv(\"../../DataSources/Dataset_Graphs/RQ2_Content_Engagement/rates.csv\", index = False)"
   ]
  },
  {
   "cell_type": "code",
   "execution_count": null,
   "metadata": {},
   "outputs": [],
   "source": [
    "def f(x):\n",
    "    return pd.Series(dict(total_media =  x['total_media'].sum(),\n",
    "                        total_hashtags = x['hashtags'].sum(),\n",
    "                        total_urls = x['urls'].sum(), \n",
    "                        amount_tweet =  x['count'].sum(),\n",
    "                        amount_conversation =  x['count'].count()))\n",
    "\n",
    "df_bellingcat_totals = df_bellingcat.groupby([\"Final Type\"]).apply(f).reset_index()"
   ]
  },
  {
   "cell_type": "code",
   "execution_count": null,
   "metadata": {},
   "outputs": [],
   "source": [
    "print(df_bellingcat_totals)"
   ]
  },
  {
   "cell_type": "code",
   "execution_count": null,
   "metadata": {},
   "outputs": [],
   "source": [
    "df_bellingcat_totals.to_csv(\"../../DataSources/Dataset_Graphs/RQ2_Content_Engagement/total_media.csv\", index= False)"
   ]
  },
  {
   "cell_type": "markdown",
   "metadata": {
    "pycharm": {
     "name": "#%% md\n"
    }
   },
   "source": [
    "## Changes in engagement after and before the war"
   ]
  },
  {
   "cell_type": "code",
   "execution_count": null,
   "metadata": {},
   "outputs": [],
   "source": [
    "df_bellingcat[\"time_frame\"]= np.where(df_bellingcat['date']>=datetime.datetime(year=2022,month=2,day=24),\"after\",\"before\")\n",
    "print(df_bellingcat.head())\n",
    "df_bellingcat_not_filtered[\"time_frame\"]= np.where(df_bellingcat_not_filtered['date']>=datetime.datetime(year=2022,month=2,day=24),\"after\",\"before\")\n",
    "print(df_bellingcat.head())"
   ]
  },
  {
   "cell_type": "markdown",
   "metadata": {
    "pycharm": {
     "name": "#%% md\n"
    }
   },
   "source": [
    "Change in distribution of engagement based on content\n",
    "\n",
    "There is a change in engagement in almost all categories except tool presentation"
   ]
  },
  {
   "cell_type": "code",
   "execution_count": null,
   "metadata": {},
   "outputs": [],
   "source": [
    "fig = px.box(df_bellingcat,\n",
    "                            y=\"log_engagement_per_post_per_follower\",\n",
    "                            color=\"time_frame\",\n",
    "                            #box_visible=True,\n",
    "                            #meanline_visible=True\n",
    "                            title=\"Change in engagement before and after the war per follower\",\n",
    "                            category_orders={\"time_frame\": [\"before\", \"after\"],}\n",
    "                             )\n",
    "\n",
    "fig.show()"
   ]
  },
  {
   "cell_type": "code",
   "execution_count": null,
   "metadata": {},
   "outputs": [],
   "source": [
    "x = df_bellingcat[df_bellingcat['time_frame']==\"before\"][\"log_engagement_per_post_per_follower\"]\n",
    "y = df_bellingcat[df_bellingcat['time_frame']==\"after\"][\"log_engagement_per_post_per_follower\"]\n",
    "\n",
    "U1, p = mannwhitneyu(x, y, method=\"auto\",alternative=\"less\")\n",
    "print(U1,p)"
   ]
  },
  {
   "cell_type": "code",
   "execution_count": null,
   "metadata": {},
   "outputs": [],
   "source": [
    "fig = px.box(df_bellingcat,x=\"Final Type\",\n",
    "                            y='log_engagement_per_post_per_follower',\n",
    "                            color=\"time_frame\",\n",
    "                            #box_visible=True,\n",
    "                            #meanline_visible=True\n",
    "                            #title=\"Change in engagement before and after the war per follower\",\n",
    "                            category_orders={\"time_frame\": [\"before\", \"after\"],},\n",
    "                            labels={\"normlog_engagement_per_follower\":\"Log Scale Engagment per Follower\",\n",
    "                            \"time_frame\":\"Timeframe\",\"Final Type\":\"f\"},\n",
    "                            width=800, height=600\n",
    "                             )\n",
    "\n",
    "#fig.update_xaxes(categoryorder='array', categoryarray= ['Research Publication', \"Self-Promotion\",'Tool Presentation', 'Crowdsource', 'Support other content', 'Publication of event regarding bellingcat'])\n",
    "\n",
    "fig.show()"
   ]
  },
  {
   "cell_type": "code",
   "execution_count": null,
   "metadata": {},
   "outputs": [],
   "source": [
    "list = df_bellingcat['Final Type'].unique()\n",
    "\n",
    "for type in list: \n",
    "    x = df_bellingcat[(df_bellingcat['Final Type']==type) & (df_bellingcat['time_frame']==\"before\")][\"log_engagement_per_post_per_follower\"]\n",
    "    y = df_bellingcat[(df_bellingcat['Final Type']==type) & (df_bellingcat['time_frame']==\"after\")][\"log_engagement_per_post_per_follower\"]\n",
    "    \n",
    "    U1, p = mannwhitneyu(x, y, method=\"auto\",alternative=\"less\")\n",
    "    print(type,U1,p)"
   ]
  },
  {
   "cell_type": "code",
   "execution_count": null,
   "metadata": {},
   "outputs": [],
   "source": [
    "df_bellingcat.to_csv(\"../../DataSources/Dataset_Graphs/RQ3_Content_Engagement/before_after.csv\", index=False)"
   ]
  },
  {
   "cell_type": "code",
   "execution_count": null,
   "metadata": {},
   "outputs": [],
   "source": [
    "df_bellingcat_per_follower= df_bellingcat[[\"Final Type\",\"time_frame\",\"log_engagement_per_post_per_follower\"]].groupby(by=[\"time_frame\",\"Final Type\"])[\"log_engagement_per_post_per_follower\"].median().reset_index()\n",
    "print(df_bellingcat_per_follower)"
   ]
  },
  {
   "cell_type": "code",
   "execution_count": null,
   "metadata": {},
   "outputs": [],
   "source": [
    "df_bellingcat_per_follower_overall= df_bellingcat[[\"time_frame\",\"total_engagement_per_follower\"]].groupby(by=[\"time_frame\"])[\"total_engagement_per_follower\"].median().reset_index()\n",
    "print(df_bellingcat_per_follower_overall)\n",
    "df_bellingcat_per_follower_overall[\"Final Type\"]=[\"overall\",\"overall\"]\n",
    "print(df_bellingcat_per_follower_overall)"
   ]
  },
  {
   "cell_type": "code",
   "execution_count": null,
   "metadata": {},
   "outputs": [],
   "source": [
    "df_bellingcat_per_follower_total= pd.concat([df_bellingcat_per_follower,df_bellingcat_per_follower_overall])\n",
    "print(df_bellingcat_per_follower_total)"
   ]
  },
  {
   "cell_type": "code",
   "execution_count": null,
   "metadata": {},
   "outputs": [],
   "source": [
    "df_bellingcat[\"month\"] = df_bellingcat[\"date\"].dt.month"
   ]
  },
  {
   "cell_type": "code",
   "execution_count": null,
   "metadata": {},
   "outputs": [],
   "source": [
    "df_bellingcat_volumen_after_war= df_bellingcat[[\"Final Type\",\"time_frame\",\"count\"]].groupby(by=[\"time_frame\",\"Final Type\"])[\"count\"].count().reset_index()\n",
    "print(df_bellingcat_volumen_after_war)"
   ]
  },
  {
   "cell_type": "code",
   "execution_count": null,
   "metadata": {},
   "outputs": [],
   "source": [
    "percentage_change = df_bellingcat_volumen_after_war.sort_values(['time_frame'], inplace = False, ascending=[False]).groupby(by=[\"Final Type\"])[\"count\"].apply(pd.Series.pct_change) \n",
    "percentage_change"
   ]
  },
  {
   "cell_type": "code",
   "execution_count": null,
   "metadata": {},
   "outputs": [],
   "source": [
    "percentage_relative_purpose_afterwar = df_bellingcat_volumen_after_war.copy()\n",
    "percentage_relative_purpose_afterwar[\"relative\"] = df_bellingcat_volumen_after_war[\"count\"]/df_bellingcat_volumen_after_war.groupby([\"time_frame\"])[\"count\"].transform(\"sum\")\n",
    "percentage_relative_purpose_afterwar"
   ]
  },
  {
   "cell_type": "code",
   "execution_count": null,
   "metadata": {},
   "outputs": [],
   "source": [
    "df_bellingcat_volumen_after_war.to_csv(\"../../DataSources/Dataset_Graphs/RQ3_Content_Engagement/df_bellingcat_volumen_after_war.csv\", index=False)"
   ]
  },
  {
   "cell_type": "code",
   "execution_count": null,
   "metadata": {},
   "outputs": [],
   "source": [
    "df_bellingcat_volumen_after_war_eng = df_bellingcat[[\"Final Type\",\"time_frame\",\"total_engagement\"]].groupby(by=[\"time_frame\",\"Final Type\"])[\"total_engagement\"].sum().reset_index()\n",
    "print(df_bellingcat_volumen_after_war_eng)"
   ]
  },
  {
   "cell_type": "markdown",
   "metadata": {
    "pycharm": {
     "name": "#%% md\n"
    }
   },
   "source": [
    "## Analysis of replies content "
   ]
  },
  {
   "cell_type": "code",
   "execution_count": null,
   "metadata": {},
   "outputs": [],
   "source": [
    "def f(x):\n",
    "    return pd.Series(dict(replies = x['replies'].sum(), \n",
    "                        quotes = x['quotes'].sum(), \n",
    "                        retweets = x['retweets'].sum(), \n",
    "                        likes = x['likes'].sum(), \n",
    "                        media_photo = x['media_photo'].sum(), \n",
    "                        media_videos = x['media_videos'].sum(), \n",
    "                        media_animated_gif = x['media_animated_gif'].sum(), \n",
    "                        media_review_image_url = x['media_animated_gif'].sum(), \n",
    "                        hashtags = x['hashtags'].sum(), \n",
    "                        urls = x['urls'].sum(), \n",
    "                        count = x['count'].sum(), \n",
    "                        text =  ', '.join(x['text'])))\n",
    " \n",
    "df_bellingcat_filtered_grouped = df_bellingcat.groupby([\"Final Type\",\"time_frame\"]).apply(f).reset_index()\n",
    "print(df_bellingcat_filtered_grouped.head())"
   ]
  },
  {
   "cell_type": "code",
   "execution_count": null,
   "metadata": {},
   "outputs": [],
   "source": [
    "df_replies = pd.read_excel(\"../../DataSources/replies_with_media_war.xlsx\",dtype = {'conversation_id': str,\"id\":str})\n",
    "\n",
    "\n",
    "def date_convert(date_to_convert):\n",
    "    return datetime_1.strptime(date_to_convert ,\"%Y-%m-%dT%H:%M:%S.%fZ\")\n",
    "\n",
    "    \n",
    "df_replies['date'] = df_replies[\"date\"].apply(date_convert) #.dt.date()\n",
    "df_replies=df_replies.sort_values(by=['date'], ascending=True)\n",
    "df_replies['date'] = df_replies[\"date\"].dt.date\n",
    "df_replies = df_replies[df_replies[\"author_id\"] != \"2315512764\"]\n",
    "df_replies = df_replies[df_replies[\"author_id\"] != 2315512764]\n",
    "df_replies = df_replies[df_replies[\"lang\"] == \"en\"]\n",
    "\n",
    "def f(x):\n",
    "    return pd.Series(dict(replies_reply = x['replies'].sum(), \n",
    "                        quotes_reply = x['quotes'].sum(), \n",
    "                        retweets_reply = x['retweets'].sum(), \n",
    "                        likes_reply = x['likes'].sum(), \n",
    "                        media_photo_reply = x['media_photo'].sum(), \n",
    "                        media_videos_reply = x['media_videos'].sum(), \n",
    "                        media_animated_gif_reply = x['media_animated_gif'].sum(), \n",
    "                        media_review_image_url_reply = x['media_animated_gif'].sum(), \n",
    "                        hashtags_reply = x['hashtags'].sum(), \n",
    "                        urls_reply = x['urls'].sum(), \n",
    "                        count_reply = x['id'].count(), \n",
    "                        text_reply =  ', '.join(x['text'])))\n",
    "\n",
    "\n",
    "#print(df_replies.head())\n",
    "#print(df_replies.columns)\n",
    "df_replies = df_replies.groupby(['conversation_id']).apply(f).reset_index()\n",
    "print(df_replies.head())"
   ]
  },
  {
   "cell_type": "code",
   "execution_count": null,
   "metadata": {},
   "outputs": [],
   "source": [
    "df_bellingcat_replies=df_bellingcat_not_filtered.merge(df_replies, on='conversation_id', how='left')\n",
    "print(df_bellingcat_replies.head())\n"
   ]
  },
  {
   "cell_type": "code",
   "execution_count": null,
   "metadata": {},
   "outputs": [],
   "source": [
    "df_bellingcat_replies.to_excel(\"../../DataSources/Dataset_Graphs/RQ3_Content_Engagement/df_bellingcat_replies_v2.xlsx\")"
   ]
  },
  {
   "cell_type": "code",
   "execution_count": null,
   "metadata": {},
   "outputs": [],
   "source": [
    "df_summarized_replies = df_bellingcat_replies.groupby(by=[\"Final Type\",\"time_frame\"]).sum().reset_index()\n",
    "print(df_summarized_replies.head())"
   ]
  },
  {
   "cell_type": "code",
   "execution_count": null,
   "metadata": {},
   "outputs": [],
   "source": [
    "df_bellingcat_replies[\"total_media_reply\"] = df_bellingcat_replies['media_photo_reply'] +df_bellingcat_replies['media_videos_reply'] \n",
    "df_bellingcat_replies[\"media_Binary_reply\"] = np.where(( (df_bellingcat_replies['media_photo_reply'] > 0) | (df_bellingcat_replies['media_videos_reply'] > 0)), \"Media\", \"No Media\")\n",
    "df_summarized_replies = df_bellingcat_replies.groupby(by=[\"conversation_id\",\"time_frame\"]).sum().reset_index()"
   ]
  },
  {
   "cell_type": "code",
   "execution_count": null,
   "metadata": {},
   "outputs": [],
   "source": [
    "def f(x):\n",
    "    return pd.Series(dict(\n",
    "                        total_media_reply = x['total_media_reply'].sum()/x['count_reply'].sum(), \n",
    "                        hashtags_reply = x['hashtags_reply'].sum()/x['count_reply'].sum(), \n",
    "                        urls_reply = x['urls_reply'].sum()/x['count_reply'].sum(), \n",
    "                        average_reply = x['count_reply'].mean(),\n",
    "                        total_replies = x['count_reply'].sum(),\n",
    "                        conversations = x['conversation_id'].count()))\n",
    "\n",
    "\n",
    "df_summarized_replies_average = df_summarized_replies.groupby(['time_frame']).apply(f).reset_index()\n",
    "print(df_summarized_replies_average.head())"
   ]
  }
 ],
 "metadata": {
  "kernelspec": {
   "display_name": "Python 3 (ipykernel)",
   "language": "python",
   "name": "python3"
  },
  "language_info": {
   "codemirror_mode": {
    "name": "ipython",
    "version": 3
   },
   "file_extension": ".py",
   "mimetype": "text/x-python",
   "name": "python",
   "nbconvert_exporter": "python",
   "pygments_lexer": "ipython3",
   "version": "3.10.1"
  },
  "vscode": {
   "interpreter": {
    "hash": "d3e10ef16274dd72e574b8fa73b58450b957d8421a2901baded3cca26fcf5dda"
   }
  }
 },
 "nbformat": 4,
 "nbformat_minor": 2
}
