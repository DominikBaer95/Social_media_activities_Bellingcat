{
 "cells": [
  {
   "cell_type": "code",
   "execution_count": null,
   "metadata": {
    "pycharm": {
     "name": "#%%\n"
    }
   },
   "outputs": [],
   "source": [
    "%matplotlib inline\n",
    "import matplotlib.pyplot as plt\n",
    "import numpy as np\n",
    "import pandas as pd\n",
    "import statsmodels.api as sm\n",
    "import seaborn as sns\n",
    "import plotly.graph_objects as go\n",
    "import plotly.express as px\n",
    "from scipy.stats import mannwhitneyu\n",
    "from scipy.stats import kruskal\n",
    "import datetime\n",
    "from datetime import datetime as datetime_1"
   ]
  },
  {
   "cell_type": "code",
   "execution_count": null,
   "metadata": {
    "pycharm": {
     "name": "#%%\n"
    }
   },
   "outputs": [],
   "source": [
    "np.random.seed(1)\n",
    "\n",
    "df_bellingcat = pd.read_excel(\"../../DataSources/bellingcat_grouped_conversation_inclu_warPeriod_Final_lang_mode_thread_mention.xlsx\",dtype = {'conversation_id': str,\"id\":str})\n",
    "df_bellingcat\n",
    "print(df_bellingcat.head())\n"
   ]
  },
  {
   "cell_type": "code",
   "execution_count": null,
   "metadata": {
    "pycharm": {
     "name": "#%%\n"
    }
   },
   "outputs": [],
   "source": [
    "df_bellingcat = df_bellingcat[df_bellingcat['lang']==\"en\"]\n",
    "df_bellingcat['year'] = df_bellingcat.date.dt.year\n",
    "df_bellingcat['month'] = df_bellingcat.date.dt.month\n",
    "print(df_bellingcat.head())"
   ]
  },
  {
   "cell_type": "markdown",
   "metadata": {
    "pycharm": {
     "name": "#%% md\n"
    }
   },
   "source": [
    "## Followers"
   ]
  },
  {
   "cell_type": "code",
   "execution_count": null,
   "metadata": {
    "pycharm": {
     "name": "#%%\n"
    }
   },
   "outputs": [],
   "source": [
    "df_followers= pd.read_excel(\"../../DataSources/Followers_final.xlsx\")\n",
    "df_followers = df_followers[[\"Date\",\"followers\"]].groupby([pd.Grouper(freq=\"M\",key=\"Date\")])[\"followers\"].max().reset_index()\n",
    "print(df_followers.head())\n"
   ]
  },
  {
   "cell_type": "code",
   "execution_count": null,
   "metadata": {
    "pycharm": {
     "name": "#%%\n"
    }
   },
   "outputs": [],
   "source": [
    "df_followers['year'] = df_followers.Date.dt.year\n",
    "df_followers['month'] = df_followers.Date.dt.month\n",
    "print(df_followers.head())"
   ]
  },
  {
   "cell_type": "code",
   "execution_count": null,
   "metadata": {
    "pycharm": {
     "name": "#%%\n"
    }
   },
   "outputs": [],
   "source": [
    "df_bellingcat=df_bellingcat.merge(df_followers, on=[\"year\",\"month\"], how='left').drop(columns=['month', 'year', 'Date'])"
   ]
  },
  {
   "cell_type": "code",
   "execution_count": null,
   "metadata": {
    "pycharm": {
     "name": "#%%\n"
    }
   },
   "outputs": [],
   "source": [
    "print(df_bellingcat.head())"
   ]
  },
  {
   "cell_type": "code",
   "execution_count": null,
   "metadata": {
    "pycharm": {
     "name": "#%%\n"
    }
   },
   "outputs": [],
   "source": [
    "df_bellingcat=df_bellingcat[df_bellingcat['date']>=datetime.datetime(year=2014,month=7,day=1)]"
   ]
  },
  {
   "cell_type": "code",
   "execution_count": null,
   "metadata": {
    "pycharm": {
     "name": "#%%\n"
    }
   },
   "outputs": [],
   "source": [
    "print(df_bellingcat.tail())"
   ]
  },
  {
   "cell_type": "code",
   "execution_count": null,
   "metadata": {
    "pycharm": {
     "name": "#%%\n"
    }
   },
   "outputs": [],
   "source": [
    "df_bellingcat.dropna(subset=['followers'],inplace=True)"
   ]
  },
  {
   "cell_type": "code",
   "execution_count": null,
   "metadata": {
    "pycharm": {
     "name": "#%%\n"
    }
   },
   "outputs": [],
   "source": [
    "df_bellingcat"
   ]
  },
  {
   "cell_type": "code",
   "execution_count": null,
   "metadata": {
    "pycharm": {
     "name": "#%%\n"
    }
   },
   "outputs": [],
   "source": [
    "df_bellingcat[\"total_engagement\"] = df_bellingcat[\"likes\"]+df_bellingcat[\"replies\"]+df_bellingcat[\"quotes\"]+df_bellingcat[\"retweets\"]\n",
    "df_bellingcat[\"total_engagement_per_follower\"] = df_bellingcat[\"total_engagement\"] / df_bellingcat[\"followers\"]\n",
    "df_bellingcat['Image'] = np.where(df_bellingcat['media_photo'] > 0, \"Image\", \"No Image\")\n",
    "df_bellingcat['Video'] = np.where(df_bellingcat['media_videos'] > 0, \"Video\", \"No Video\")\n",
    "df_bellingcat['Mentions'] = np.where(df_bellingcat['mentions'] > 0, \"Mentions\", \"No Mentions\")\n",
    "df_bellingcat['media_animated_gif_Binary'] = np.where(df_bellingcat['media_animated_gif'] > 0, 1, 0)\n",
    "df_bellingcat['media_review_image_url_Binary'] = np.where(df_bellingcat['media_review_image_url'] > 0, 1, 0)\n",
    "df_bellingcat[\"media_Binary\"] = np.where((  (df_bellingcat['media_photo'] > 0) | (df_bellingcat['media_videos'] > 0)), \"Media\", \"No Media\")\n",
    "df_bellingcat[\"media_Binary_numeric\"] = np.where(((df_bellingcat['media_photo'] > 0) | (df_bellingcat['media_videos'] > 0)), 1, 0)\n",
    "df_bellingcat[\"total_media\"] =   df_bellingcat['media_photo'] + df_bellingcat['media_videos']\n",
    "df_bellingcat['URL'] = np.where(df_bellingcat['urls'] > 0, \"URL\", \"No URL\")\n",
    "df_bellingcat['Hashtags'] = np.where(df_bellingcat['hashtags'] > 0, \"Hashtags\", \"No Hashtags\")\n",
    "df_bellingcat['log_engagement_per_post_per_follower']=np.log((df_bellingcat[\"total_engagement_per_follower\"]+1)/df_bellingcat[\"count\"])\n",
    "df_bellingcat['engagement_per_post_per_follower']=(df_bellingcat[\"total_engagement_per_follower\"])/df_bellingcat[\"count\"]\n",
    "df_bellingcat[\"likes_log\"]=np.log(((df_bellingcat[\"likes\"]+1)/ df_bellingcat[\"followers\"])/df_bellingcat[\"count\"])\n",
    "df_bellingcat[\"conversation_binary\"]=np.where(df_bellingcat['count'] > 1, \"Thread\", \"Single\")\n",
    "df_bellingcat[\"replies_log\"]=np.log(((df_bellingcat[\"replies\"]+1)/ df_bellingcat[\"followers\"])/df_bellingcat[\"count\"])\n",
    "df_bellingcat[\"quotes_log\"]=np.log(((df_bellingcat[\"quotes\"]+1)/ df_bellingcat[\"followers\"])/df_bellingcat[\"count\"])\n",
    "df_bellingcat[\"retweets_log\"]=np.log(((df_bellingcat[\"retweets\"]+1)/ df_bellingcat[\"followers\"])/df_bellingcat[\"count\"])\n",
    "df_bellingcat[\"normlog_engagement_per_follower\"]=np.log(df_bellingcat[\"total_engagement_per_follower\"]+1)"
   ]
  },
  {
   "cell_type": "code",
   "execution_count": null,
   "metadata": {
    "pycharm": {
     "name": "#%%\n"
    }
   },
   "outputs": [],
   "source": [
    "list_attachments = [\"Image\",\"Video\",\"URL\",\"Hashtags\",\"Mentions\"]\n",
    "\n",
    "for type in list_attachments: \n",
    "    without_attachment = df_bellingcat[(df_bellingcat[type]!=type)][\"engagement_per_post_per_follower\"].median()\n",
    "    with_attachment = df_bellingcat[(df_bellingcat[type]==type)][\"engagement_per_post_per_follower\"].median()\n",
    "    without_attachment_len = len(df_bellingcat[(df_bellingcat[type]!=type)][\"engagement_per_post_per_follower\"])\n",
    "    with_attachment_len = len(df_bellingcat[(df_bellingcat[type]==type)][\"engagement_per_post_per_follower\"])\n",
    "    \n",
    "    percentage = (with_attachment-without_attachment)/without_attachment\n",
    "    print(type,with_attachment_len,without_attachment_len,percentage)"
   ]
  },
  {
   "cell_type": "code",
   "execution_count": null,
   "metadata": {
    "pycharm": {
     "name": "#%%\n"
    }
   },
   "outputs": [],
   "source": [
    "list_attachments = [\"Image\",\"Video\",\"URL\",\"Hashtags\",\"Mentions\"]\n",
    "\n",
    "for type in list_attachments: \n",
    "    x = df_bellingcat[(df_bellingcat[type]!=type)][\"engagement_per_post_per_follower\"]\n",
    "    y = df_bellingcat[(df_bellingcat[type]==type)][\"engagement_per_post_per_follower\"]\n",
    "    \n",
    "    U1, p = mannwhitneyu(x, y, method=\"auto\",alternative=\"less\")\n",
    "    print(type,U1,p)"
   ]
  },
  {
   "cell_type": "code",
   "execution_count": null,
   "metadata": {
    "pycharm": {
     "name": "#%%\n"
    }
   },
   "outputs": [],
   "source": [
    "df_bellingcat.to_csv(\"../../DataSources/Dataset_Graphs/RQ2_Content_Engagement/CCDF.csv\")"
   ]
  },
  {
   "cell_type": "markdown",
   "metadata": {
    "pycharm": {
     "name": "#%% md\n"
    }
   },
   "source": [
    "## Sentiment"
   ]
  },
  {
   "cell_type": "code",
   "execution_count": null,
   "metadata": {
    "pycharm": {
     "name": "#%%\n"
    }
   },
   "outputs": [],
   "source": [
    "#import aggregation as aggregation\n",
    "import pandas as pd\n",
    "import numpy as np\n",
    "#plotting\n",
    "import matplotlib.pyplot as plt\n",
    "import matplotlib.dates as mdates \n",
    "import matplotlib.cbook as cbook\n",
    "import matplotlib.dates as mdates\n",
    "import plotly.express as px\n",
    "\n",
    "\n",
    "\n",
    "\n",
    "#Sentimentanalysis - Dictionary Approach\n",
    "from vaderSentiment.vaderSentiment import SentimentIntensityAnalyzer\n",
    "analyzer = SentimentIntensityAnalyzer()\n",
    "\n",
    "import nest_asyncio\n",
    "import re\n",
    "from matplotlib import pyplot as plt \n",
    "import seaborn as sns\n",
    "\n",
    "#Date manipulation\n",
    "import time\n",
    "from datetime import datetime, date, time, timedelta\n",
    "import dateutil.relativedelta"
   ]
  },
  {
   "cell_type": "code",
   "execution_count": null,
   "metadata": {
    "pycharm": {
     "name": "#%%\n"
    }
   },
   "outputs": [],
   "source": [
    "df1 = df_bellingcat.copy()"
   ]
  },
  {
   "cell_type": "code",
   "execution_count": null,
   "metadata": {
    "pycharm": {
     "name": "#%%\n"
    }
   },
   "outputs": [],
   "source": [
    "def preprocess_tweets(text):\n",
    "    fo = open(\"Stopwords-en.txt\",\"+r\")\n",
    "    stop_words = list(fo.read().split(','))\n",
    "    translation={39:None}\n",
    "    processed_tweet = text\n",
    "    processed_tweet=' '.join(re.sub(\"(@[A-Za-z0-9]+)|([^0-9A-Za-z \\t])|(\\w+:\\/\\/\\S+)\",\" \",text).split())\n",
    "    processed_tweet = \" \".join(word for word in processed_tweet.split() if word not in str(stop_words).translate(translation))\n",
    "    return(processed_tweet)\n",
    "\n",
    "df1['Processed Tweet'] = df1['text'].apply(lambda x: preprocess_tweets(x.lower()))"
   ]
  },
  {
   "cell_type": "code",
   "execution_count": null,
   "metadata": {
    "pycharm": {
     "name": "#%%\n"
    }
   },
   "outputs": [],
   "source": [
    "#second opportunity of data cleaning (I am using now the first one)\n",
    "def remove_pattern(input_txt, pattern):\n",
    "    r = re.findall(pattern, input_txt)\n",
    "    for i in r:\n",
    "        input_txt = re.sub(i, '', input_txt)        \n",
    "    return input_txt\n",
    "\n",
    "def clean_tweets(tweets):\n",
    "    #remove twitter Return handles (RT @xxx:)\n",
    "    tweets = np.vectorize(remove_pattern)(tweets, \"RT @[\\w]*:\") \n",
    "    \n",
    "    #remove twitter handles (@xxx)\n",
    "    tweets = np.vectorize(remove_pattern)(tweets, \"@[\\w]*\")\n",
    "    \n",
    "    #remove URL links (httpxxx)\n",
    "    tweets = np.vectorize(remove_pattern)(tweets, \"https?://[A-Za-z0-9./]*\")\n",
    "    \n",
    "    #remove special characters, numbers, punctuations (except for #)\n",
    "    tweets = np.core.defchararray.replace(tweets, \"[^a-zA-Z]\", \" \")\n",
    "    \n",
    "    return tweets"
   ]
  },
  {
   "cell_type": "code",
   "execution_count": null,
   "metadata": {
    "pycharm": {
     "name": "#%%\n"
    }
   },
   "outputs": [],
   "source": [
    "#Clean Rows where Processed Tweet is Empty (e.g. because if it is only a Link)\n",
    "def EmptyRows(dataset): \n",
    "    nan_value = float(\"NaN\")\n",
    "    dataset.replace(\"\",nan_value, inplace=True)\n",
    "    dataset.dropna(subset = ['Processed Tweet'], inplace= True)"
   ]
  },
  {
   "cell_type": "code",
   "execution_count": null,
   "metadata": {
    "pycharm": {
     "name": "#%%\n"
    }
   },
   "outputs": [],
   "source": [
    "#Split date into year,month day date-columns\n",
    "def SplitDate(dataset):\n",
    "    dataset['year']=pd.to_datetime(dataset['date']).dt.strftime('%Y')\n",
    "    dataset['month']=pd.to_datetime(dataset['date']).dt.strftime('%m')\n",
    "    dataset['day']=pd.to_datetime(dataset['date']).dt.strftime('%A')\n",
    "    dataset['year-month']=pd.to_datetime(dataset['date']).dt.strftime('%Y-%m')"
   ]
  },
  {
   "cell_type": "code",
   "execution_count": null,
   "metadata": {
    "pycharm": {
     "name": "#%%\n"
    }
   },
   "outputs": [],
   "source": [
    "EmptyRows(df1)"
   ]
  },
  {
   "cell_type": "code",
   "execution_count": null,
   "metadata": {
    "pycharm": {
     "name": "#%%\n"
    }
   },
   "outputs": [],
   "source": [
    "df1['polarity'] = df1['Processed Tweet'].apply(lambda x: analyzer.polarity_scores(x))"
   ]
  },
  {
   "cell_type": "code",
   "execution_count": null,
   "metadata": {
    "pycharm": {
     "name": "#%%\n"
    }
   },
   "outputs": [],
   "source": [
    "def sentimentPredict(sentiment):\n",
    "    if sentiment['compound'] >= 0.05:\n",
    "        return \"Positive\"\n",
    "    elif sentiment['compound'] <= -0.05: \n",
    "        return \"Negative\"\n",
    "    else:\n",
    "        return \"Neutral\"\n",
    "\n",
    "df1['sentiment'] =df1['polarity'].apply(lambda x: sentimentPredict(x))"
   ]
  },
  {
   "cell_type": "code",
   "execution_count": null,
   "metadata": {
    "pycharm": {
     "name": "#%%\n"
    }
   },
   "outputs": [],
   "source": [
    "#for creating columns for each dic item in polarity\n",
    "df1 = pd.concat([df1.drop(['polarity'], axis=1), df1['polarity'].apply(pd.Series)], axis=1)"
   ]
  },
  {
   "cell_type": "code",
   "execution_count": null,
   "metadata": {
    "pycharm": {
     "name": "#%%\n"
    }
   },
   "outputs": [],
   "source": [
    "df1.head()"
   ]
  },
  {
   "cell_type": "code",
   "execution_count": null,
   "metadata": {
    "pycharm": {
     "name": "#%%\n"
    }
   },
   "outputs": [],
   "source": [
    "list_polarity = [\"Negative\",\"Neutral\",\"Positive\"]\n",
    "\n",
    "for type in list_polarity: \n",
    "    median_eng = df1[(df1[\"sentiment\"]==type)][\"engagement_per_post_per_follower\"].median()\n",
    "    print(type,median_eng)"
   ]
  },
  {
   "cell_type": "code",
   "execution_count": null,
   "metadata": {
    "pycharm": {
     "name": "#%%\n"
    }
   },
   "outputs": [],
   "source": [
    "median_sentiment = df1.groupby(\"sentiment\")[\"engagement_per_post_per_follower\"].median().reset_index()\n",
    "median_sentiment"
   ]
  },
  {
   "cell_type": "code",
   "execution_count": null,
   "metadata": {
    "pycharm": {
     "name": "#%%\n"
    }
   },
   "outputs": [],
   "source": [
    "median_sentiment.to_csv(\"../../DataSources/Dataset_Graphs/RQ2_Content_Engagement/median_sentiment.csv\")"
   ]
  },
  {
   "cell_type": "code",
   "execution_count": null,
   "metadata": {
    "pycharm": {
     "name": "#%%\n"
    }
   },
   "outputs": [],
   "source": [
    "total_sentiment = df1.groupby(\"sentiment\")[\"total_engagement\"].sum().reset_index()\n",
    "total_sentiment\n",
    "total_sentiment.to_csv(\"../../DataSources/Dataset_Graphs/RQ2_Content_Engagement/total_sentiment.csv\")"
   ]
  },
  {
   "cell_type": "code",
   "execution_count": null,
   "metadata": {
    "pycharm": {
     "name": "#%%\n"
    }
   },
   "outputs": [],
   "source": [
    "df1.to_csv(\"../../DataSources/Dataset_Graphs/RQ2_Content_Engagement/CCDF_Sentiment.csv\")"
   ]
  },
  {
   "cell_type": "markdown",
   "metadata": {
    "pycharm": {
     "name": "#%% md\n"
    }
   },
   "source": [
    "## Double check of results for video"
   ]
  },
  {
   "cell_type": "code",
   "execution_count": null,
   "metadata": {
    "pycharm": {
     "name": "#%%\n"
    }
   },
   "outputs": [],
   "source": [
    "from scipy import stats\n",
    "import random\n",
    "import matplotlib.pyplot as plt\n",
    "import numpy as np\n",
    "%matplotlib inline\n",
    "v_value_list = []\n",
    "\n",
    "for x in range(1,1000):\n",
    "    video=random.sample(df_bellingcat[df_bellingcat[\"Video\"]==\"Video\"][\"engagement_per_post_per_follower\"].tolist(),200)\n",
    "    not_video=random.sample(df_bellingcat[df_bellingcat[\"Video\"]!=\"Video\"][\"engagement_per_post_per_follower\"].tolist(),200)\n",
    "\n",
    "    v_value_list.append(stats.kstest(video,not_video).pvalue)\n",
    "\n",
    "\n",
    "plt.hist(v_value_list, density=True, bins=30)\n"
   ]
  },
  {
   "cell_type": "code",
   "execution_count": null,
   "metadata": {
    "pycharm": {
     "name": "#%%\n"
    }
   },
   "outputs": [],
   "source": [
    "# Quantile-quantile plot\n",
    "video=random.sample(df_bellingcat[df_bellingcat[\"Video\"]==\"Video\"][\"engagement_per_post_per_follower\"].tolist(),200)\n",
    "not_video=random.sample(df_bellingcat[df_bellingcat[\"Video\"]!=\"Video\"][\"engagement_per_post_per_follower\"].tolist(),200)\n",
    "plt.figure()\n",
    "plt.scatter(np.sort(video), np.sort(not_video))\n",
    "plt.xlabel('X')\n",
    "plt.ylabel('Y')\n",
    "plt.show()\n",
    "plt.close()"
   ]
  }
 ],
 "metadata": {
  "kernelspec": {
   "display_name": "Python 3 (ipykernel)",
   "language": "python",
   "name": "python3"
  },
  "language_info": {
   "codemirror_mode": {
    "name": "ipython",
    "version": 3
   },
   "file_extension": ".py",
   "mimetype": "text/x-python",
   "name": "python",
   "nbconvert_exporter": "python",
   "pygments_lexer": "ipython3",
   "version": "3.10.1"
  },
  "vscode": {
   "interpreter": {
    "hash": "5100bb95e858b9e941e8e80aa0f5067cd86ed5041e3728ba4b0f2d37cb5109fe"
   }
  }
 },
 "nbformat": 4,
 "nbformat_minor": 2
}
